{
 "cells": [
  {
   "cell_type": "markdown",
   "metadata": {},
   "source": [
    "Since I will be working in an IDE and importing my functions and classes in this notebook, I can use the **autoreload** magic method that automatically reloads my code when I modify it, so I do not have to restart the notebook everytime."
   ]
  },
  {
   "cell_type": "markdown",
   "metadata": {},
   "source": [
    "**Notebook contains only the code to test implementation and the implementation itself is in the file.**"
   ]
  },
  {
   "cell_type": "code",
   "execution_count": 1,
   "metadata": {},
   "outputs": [],
   "source": [
    "%load_ext autoreload\n",
    "%autoreload 2"
   ]
  },
  {
   "cell_type": "code",
   "execution_count": 2,
   "metadata": {},
   "outputs": [],
   "source": [
    "%reload_ext autoreload"
   ]
  },
  {
   "cell_type": "code",
   "execution_count": 50,
   "metadata": {},
   "outputs": [],
   "source": [
    "import pandas as pd\n",
    "from model import load_dataset, build_model\n",
    "from transformers import CategoriesExtractor, GoalAdjustor, TimeTransformer, \\\n",
    "    CountryTransformer\n",
    "pd.set_option('display.max_columns', 100)"
   ]
  },
  {
   "cell_type": "code",
   "execution_count": 8,
   "metadata": {},
   "outputs": [
    {
     "data": {
      "text/html": [
       "<div>\n",
       "<style scoped>\n",
       "    .dataframe tbody tr th:only-of-type {\n",
       "        vertical-align: middle;\n",
       "    }\n",
       "\n",
       "    .dataframe tbody tr th {\n",
       "        vertical-align: top;\n",
       "    }\n",
       "\n",
       "    .dataframe thead th {\n",
       "        text-align: right;\n",
       "    }\n",
       "</style>\n",
       "<table border=\"1\" class=\"dataframe\">\n",
       "  <thead>\n",
       "    <tr style=\"text-align: right;\">\n",
       "      <th></th>\n",
       "      <th>photo</th>\n",
       "      <th>name</th>\n",
       "      <th>blurb</th>\n",
       "      <th>goal</th>\n",
       "      <th>slug</th>\n",
       "      <th>disable_communication</th>\n",
       "      <th>country</th>\n",
       "      <th>currency</th>\n",
       "      <th>currency_symbol</th>\n",
       "      <th>currency_trailing_code</th>\n",
       "      <th>deadline</th>\n",
       "      <th>created_at</th>\n",
       "      <th>launched_at</th>\n",
       "      <th>static_usd_rate</th>\n",
       "      <th>creator</th>\n",
       "      <th>location</th>\n",
       "      <th>category</th>\n",
       "      <th>profile</th>\n",
       "      <th>urls</th>\n",
       "      <th>source_url</th>\n",
       "      <th>friends</th>\n",
       "      <th>is_starred</th>\n",
       "      <th>is_backing</th>\n",
       "      <th>permissions</th>\n",
       "    </tr>\n",
       "    <tr>\n",
       "      <th>id</th>\n",
       "      <th></th>\n",
       "      <th></th>\n",
       "      <th></th>\n",
       "      <th></th>\n",
       "      <th></th>\n",
       "      <th></th>\n",
       "      <th></th>\n",
       "      <th></th>\n",
       "      <th></th>\n",
       "      <th></th>\n",
       "      <th></th>\n",
       "      <th></th>\n",
       "      <th></th>\n",
       "      <th></th>\n",
       "      <th></th>\n",
       "      <th></th>\n",
       "      <th></th>\n",
       "      <th></th>\n",
       "      <th></th>\n",
       "      <th></th>\n",
       "      <th></th>\n",
       "      <th></th>\n",
       "      <th></th>\n",
       "      <th></th>\n",
       "    </tr>\n",
       "  </thead>\n",
       "  <tbody>\n",
       "    <tr>\n",
       "      <th>810643898</th>\n",
       "      <td>{\"small\":\"https://ksr-ugc.imgix.net/assets/011...</td>\n",
       "      <td>Reverence: A Documentary Short on Branded Yarm...</td>\n",
       "      <td>A documentary exploring the phenomenon of cust...</td>\n",
       "      <td>6000.0</td>\n",
       "      <td>reverence-a-documentary-short-on-custom-yarmulkes</td>\n",
       "      <td>False</td>\n",
       "      <td>US</td>\n",
       "      <td>USD</td>\n",
       "      <td>$</td>\n",
       "      <td>True</td>\n",
       "      <td>1383676790</td>\n",
       "      <td>1378142506</td>\n",
       "      <td>1380217190</td>\n",
       "      <td>1.0</td>\n",
       "      <td>{\"urls\":{\"web\":{\"user\":\"https://www.kickstarte...</td>\n",
       "      <td>{\"country\":\"US\",\"urls\":{\"web\":{\"discover\":\"htt...</td>\n",
       "      <td>{\"urls\":{\"web\":{\"discover\":\"http://www.kicksta...</td>\n",
       "      <td>{\"background_image_opacity\":0.8,\"should_show_f...</td>\n",
       "      <td>{\"web\":{\"project\":\"https://www.kickstarter.com...</td>\n",
       "      <td>https://www.kickstarter.com/discover/categorie...</td>\n",
       "      <td>NaN</td>\n",
       "      <td>NaN</td>\n",
       "      <td>NaN</td>\n",
       "      <td>NaN</td>\n",
       "    </tr>\n",
       "    <tr>\n",
       "      <th>407153952</th>\n",
       "      <td>{\"small\":\"https://ksr-ugc.imgix.net/assets/011...</td>\n",
       "      <td>YOU Release the NEW Goddamn Electric Bill VINY...</td>\n",
       "      <td>Guarantee yourself one of 250 limited vinyl re...</td>\n",
       "      <td>1500.0</td>\n",
       "      <td>you-release-the-new-goddamn-electric-bill-viny...</td>\n",
       "      <td>False</td>\n",
       "      <td>US</td>\n",
       "      <td>USD</td>\n",
       "      <td>$</td>\n",
       "      <td>True</td>\n",
       "      <td>1284757200</td>\n",
       "      <td>1282000087</td>\n",
       "      <td>1282175023</td>\n",
       "      <td>1.0</td>\n",
       "      <td>{\"urls\":{\"web\":{\"user\":\"https://www.kickstarte...</td>\n",
       "      <td>{\"country\":\"US\",\"urls\":{\"web\":{\"discover\":\"htt...</td>\n",
       "      <td>{\"urls\":{\"web\":{\"discover\":\"http://www.kicksta...</td>\n",
       "      <td>{\"background_image_opacity\":0.8,\"should_show_f...</td>\n",
       "      <td>{\"web\":{\"project\":\"https://www.kickstarter.com...</td>\n",
       "      <td>https://www.kickstarter.com/discover/categorie...</td>\n",
       "      <td>NaN</td>\n",
       "      <td>NaN</td>\n",
       "      <td>NaN</td>\n",
       "      <td>NaN</td>\n",
       "    </tr>\n",
       "    <tr>\n",
       "      <th>531190382</th>\n",
       "      <td>{\"small\":\"https://ksr-ugc.imgix.net/assets/011...</td>\n",
       "      <td>Lonely Estates Album</td>\n",
       "      <td>Lonely Estates are almost done with their debu...</td>\n",
       "      <td>1000.0</td>\n",
       "      <td>lonely-estates-album</td>\n",
       "      <td>False</td>\n",
       "      <td>US</td>\n",
       "      <td>USD</td>\n",
       "      <td>$</td>\n",
       "      <td>True</td>\n",
       "      <td>1319133283</td>\n",
       "      <td>1315424966</td>\n",
       "      <td>1317318883</td>\n",
       "      <td>1.0</td>\n",
       "      <td>{\"urls\":{\"web\":{\"user\":\"https://www.kickstarte...</td>\n",
       "      <td>{\"country\":\"US\",\"urls\":{\"web\":{\"discover\":\"htt...</td>\n",
       "      <td>{\"urls\":{\"web\":{\"discover\":\"http://www.kicksta...</td>\n",
       "      <td>{\"background_image_opacity\":0.8,\"should_show_f...</td>\n",
       "      <td>{\"web\":{\"project\":\"https://www.kickstarter.com...</td>\n",
       "      <td>https://www.kickstarter.com/discover/categorie...</td>\n",
       "      <td>NaN</td>\n",
       "      <td>NaN</td>\n",
       "      <td>NaN</td>\n",
       "      <td>NaN</td>\n",
       "    </tr>\n",
       "    <tr>\n",
       "      <th>1253528325</th>\n",
       "      <td>{\"small\":\"https://ksr-ugc.imgix.net/assets/012...</td>\n",
       "      <td>Crit Hit! 2016 - a tabletop roleplaying gather...</td>\n",
       "      <td>A tabletop RPG focused event where you can pla...</td>\n",
       "      <td>3000.0</td>\n",
       "      <td>crit-hit-2016-a-tabletop-roleplaying-gathering-in</td>\n",
       "      <td>False</td>\n",
       "      <td>US</td>\n",
       "      <td>USD</td>\n",
       "      <td>$</td>\n",
       "      <td>True</td>\n",
       "      <td>1460442791</td>\n",
       "      <td>1451709060</td>\n",
       "      <td>1456990391</td>\n",
       "      <td>1.0</td>\n",
       "      <td>{\"urls\":{\"web\":{\"user\":\"https://www.kickstarte...</td>\n",
       "      <td>{\"country\":\"US\",\"urls\":{\"web\":{\"discover\":\"htt...</td>\n",
       "      <td>{\"urls\":{\"web\":{\"discover\":\"http://www.kicksta...</td>\n",
       "      <td>{\"background_image_opacity\":1,\"should_show_fea...</td>\n",
       "      <td>{\"web\":{\"project\":\"https://www.kickstarter.com...</td>\n",
       "      <td>https://www.kickstarter.com/discover/categorie...</td>\n",
       "      <td>NaN</td>\n",
       "      <td>NaN</td>\n",
       "      <td>NaN</td>\n",
       "      <td>NaN</td>\n",
       "    </tr>\n",
       "    <tr>\n",
       "      <th>379783411</th>\n",
       "      <td>{\"small\":\"https://ksr-ugc.imgix.net/assets/011...</td>\n",
       "      <td>Hillsboro Arts Preschool Yearbook</td>\n",
       "      <td>The Yearbook will be a collection of drawings,...</td>\n",
       "      <td>2500.0</td>\n",
       "      <td>hillsboro-arts-preschool-yearbook</td>\n",
       "      <td>False</td>\n",
       "      <td>US</td>\n",
       "      <td>USD</td>\n",
       "      <td>$</td>\n",
       "      <td>True</td>\n",
       "      <td>1356197572</td>\n",
       "      <td>1336233031</td>\n",
       "      <td>1353605572</td>\n",
       "      <td>1.0</td>\n",
       "      <td>{\"urls\":{\"web\":{\"user\":\"https://www.kickstarte...</td>\n",
       "      <td>{\"country\":\"US\",\"urls\":{\"web\":{\"discover\":\"htt...</td>\n",
       "      <td>{\"urls\":{\"web\":{\"discover\":\"http://www.kicksta...</td>\n",
       "      <td>{\"background_image_opacity\":0.8,\"should_show_f...</td>\n",
       "      <td>{\"web\":{\"project\":\"https://www.kickstarter.com...</td>\n",
       "      <td>https://www.kickstarter.com/discover/categorie...</td>\n",
       "      <td>NaN</td>\n",
       "      <td>NaN</td>\n",
       "      <td>NaN</td>\n",
       "      <td>NaN</td>\n",
       "    </tr>\n",
       "  </tbody>\n",
       "</table>\n",
       "</div>"
      ],
      "text/plain": [
       "                                                        photo  \\\n",
       "id                                                              \n",
       "810643898   {\"small\":\"https://ksr-ugc.imgix.net/assets/011...   \n",
       "407153952   {\"small\":\"https://ksr-ugc.imgix.net/assets/011...   \n",
       "531190382   {\"small\":\"https://ksr-ugc.imgix.net/assets/011...   \n",
       "1253528325  {\"small\":\"https://ksr-ugc.imgix.net/assets/012...   \n",
       "379783411   {\"small\":\"https://ksr-ugc.imgix.net/assets/011...   \n",
       "\n",
       "                                                         name  \\\n",
       "id                                                              \n",
       "810643898   Reverence: A Documentary Short on Branded Yarm...   \n",
       "407153952   YOU Release the NEW Goddamn Electric Bill VINY...   \n",
       "531190382                                Lonely Estates Album   \n",
       "1253528325  Crit Hit! 2016 - a tabletop roleplaying gather...   \n",
       "379783411                   Hillsboro Arts Preschool Yearbook   \n",
       "\n",
       "                                                        blurb    goal  \\\n",
       "id                                                                      \n",
       "810643898   A documentary exploring the phenomenon of cust...  6000.0   \n",
       "407153952   Guarantee yourself one of 250 limited vinyl re...  1500.0   \n",
       "531190382   Lonely Estates are almost done with their debu...  1000.0   \n",
       "1253528325  A tabletop RPG focused event where you can pla...  3000.0   \n",
       "379783411   The Yearbook will be a collection of drawings,...  2500.0   \n",
       "\n",
       "                                                         slug  \\\n",
       "id                                                              \n",
       "810643898   reverence-a-documentary-short-on-custom-yarmulkes   \n",
       "407153952   you-release-the-new-goddamn-electric-bill-viny...   \n",
       "531190382                                lonely-estates-album   \n",
       "1253528325  crit-hit-2016-a-tabletop-roleplaying-gathering-in   \n",
       "379783411                   hillsboro-arts-preschool-yearbook   \n",
       "\n",
       "            disable_communication country currency currency_symbol  \\\n",
       "id                                                                   \n",
       "810643898                   False      US      USD               $   \n",
       "407153952                   False      US      USD               $   \n",
       "531190382                   False      US      USD               $   \n",
       "1253528325                  False      US      USD               $   \n",
       "379783411                   False      US      USD               $   \n",
       "\n",
       "            currency_trailing_code    deadline  created_at  launched_at  \\\n",
       "id                                                                        \n",
       "810643898                     True  1383676790  1378142506   1380217190   \n",
       "407153952                     True  1284757200  1282000087   1282175023   \n",
       "531190382                     True  1319133283  1315424966   1317318883   \n",
       "1253528325                    True  1460442791  1451709060   1456990391   \n",
       "379783411                     True  1356197572  1336233031   1353605572   \n",
       "\n",
       "            static_usd_rate  \\\n",
       "id                            \n",
       "810643898               1.0   \n",
       "407153952               1.0   \n",
       "531190382               1.0   \n",
       "1253528325              1.0   \n",
       "379783411               1.0   \n",
       "\n",
       "                                                      creator  \\\n",
       "id                                                              \n",
       "810643898   {\"urls\":{\"web\":{\"user\":\"https://www.kickstarte...   \n",
       "407153952   {\"urls\":{\"web\":{\"user\":\"https://www.kickstarte...   \n",
       "531190382   {\"urls\":{\"web\":{\"user\":\"https://www.kickstarte...   \n",
       "1253528325  {\"urls\":{\"web\":{\"user\":\"https://www.kickstarte...   \n",
       "379783411   {\"urls\":{\"web\":{\"user\":\"https://www.kickstarte...   \n",
       "\n",
       "                                                     location  \\\n",
       "id                                                              \n",
       "810643898   {\"country\":\"US\",\"urls\":{\"web\":{\"discover\":\"htt...   \n",
       "407153952   {\"country\":\"US\",\"urls\":{\"web\":{\"discover\":\"htt...   \n",
       "531190382   {\"country\":\"US\",\"urls\":{\"web\":{\"discover\":\"htt...   \n",
       "1253528325  {\"country\":\"US\",\"urls\":{\"web\":{\"discover\":\"htt...   \n",
       "379783411   {\"country\":\"US\",\"urls\":{\"web\":{\"discover\":\"htt...   \n",
       "\n",
       "                                                     category  \\\n",
       "id                                                              \n",
       "810643898   {\"urls\":{\"web\":{\"discover\":\"http://www.kicksta...   \n",
       "407153952   {\"urls\":{\"web\":{\"discover\":\"http://www.kicksta...   \n",
       "531190382   {\"urls\":{\"web\":{\"discover\":\"http://www.kicksta...   \n",
       "1253528325  {\"urls\":{\"web\":{\"discover\":\"http://www.kicksta...   \n",
       "379783411   {\"urls\":{\"web\":{\"discover\":\"http://www.kicksta...   \n",
       "\n",
       "                                                      profile  \\\n",
       "id                                                              \n",
       "810643898   {\"background_image_opacity\":0.8,\"should_show_f...   \n",
       "407153952   {\"background_image_opacity\":0.8,\"should_show_f...   \n",
       "531190382   {\"background_image_opacity\":0.8,\"should_show_f...   \n",
       "1253528325  {\"background_image_opacity\":1,\"should_show_fea...   \n",
       "379783411   {\"background_image_opacity\":0.8,\"should_show_f...   \n",
       "\n",
       "                                                         urls  \\\n",
       "id                                                              \n",
       "810643898   {\"web\":{\"project\":\"https://www.kickstarter.com...   \n",
       "407153952   {\"web\":{\"project\":\"https://www.kickstarter.com...   \n",
       "531190382   {\"web\":{\"project\":\"https://www.kickstarter.com...   \n",
       "1253528325  {\"web\":{\"project\":\"https://www.kickstarter.com...   \n",
       "379783411   {\"web\":{\"project\":\"https://www.kickstarter.com...   \n",
       "\n",
       "                                                   source_url friends  \\\n",
       "id                                                                      \n",
       "810643898   https://www.kickstarter.com/discover/categorie...     NaN   \n",
       "407153952   https://www.kickstarter.com/discover/categorie...     NaN   \n",
       "531190382   https://www.kickstarter.com/discover/categorie...     NaN   \n",
       "1253528325  https://www.kickstarter.com/discover/categorie...     NaN   \n",
       "379783411   https://www.kickstarter.com/discover/categorie...     NaN   \n",
       "\n",
       "           is_starred is_backing permissions  \n",
       "id                                            \n",
       "810643898         NaN        NaN         NaN  \n",
       "407153952         NaN        NaN         NaN  \n",
       "531190382         NaN        NaN         NaN  \n",
       "1253528325        NaN        NaN         NaN  \n",
       "379783411         NaN        NaN         NaN  "
      ]
     },
     "execution_count": 8,
     "metadata": {},
     "output_type": "execute_result"
    }
   ],
   "source": [
    "X_train, y_train = load_dataset(\"X_train.zip\", \"y_train.zip\")\n",
    "X_train.head()"
   ]
  },
  {
   "cell_type": "code",
   "execution_count": 12,
   "metadata": {},
   "outputs": [
    {
     "data": {
      "text/plain": [
       "'{\"urls\":{\"web\":{\"discover\":\"http://www.kickstarter.com/discover/categories/publishing/art%20books\"}},\"color\":14867664,\"parent_id\":18,\"name\":\"Art Books\",\"id\":45,\"position\":3,\"slug\":\"publishing/art books\"}'"
      ]
     },
     "execution_count": 12,
     "metadata": {},
     "output_type": "execute_result"
    }
   ],
   "source": [
    "X_train.category[379783411]"
   ]
  },
  {
   "cell_type": "markdown",
   "metadata": {},
   "source": [
    "**Here we will create a new transformer that allows to extra categories from the `category` column that is stored as a json. We want this transformer to have a parameter `use_all` that allows us to choose between filtering to use only a subset of hardcoded categories we care about or get all categories found in the json.**\n",
    "\n",
    "**The `transform` method should return two new columns, `gen_cat` the generic categorie, and `precise_cat` the precise category, those are extracted by assuming the json contains a string in the format `gen_cat/precise_cat`. We provide the method `_get_slug` that gets the two categories, and filter if necessary, so you only have to implement `fit` and `transform` to return the two new columns we want:**"
   ]
  },
  {
   "cell_type": "code",
   "execution_count": 37,
   "metadata": {},
   "outputs": [
    {
     "data": {
      "text/html": [
       "<div>\n",
       "<style scoped>\n",
       "    .dataframe tbody tr th:only-of-type {\n",
       "        vertical-align: middle;\n",
       "    }\n",
       "\n",
       "    .dataframe tbody tr th {\n",
       "        vertical-align: top;\n",
       "    }\n",
       "\n",
       "    .dataframe thead th {\n",
       "        text-align: right;\n",
       "    }\n",
       "</style>\n",
       "<table border=\"1\" class=\"dataframe\">\n",
       "  <thead>\n",
       "    <tr style=\"text-align: right;\">\n",
       "      <th></th>\n",
       "      <th>gen_cat</th>\n",
       "      <th>precise_cat</th>\n",
       "    </tr>\n",
       "    <tr>\n",
       "      <th>id</th>\n",
       "      <th></th>\n",
       "      <th></th>\n",
       "    </tr>\n",
       "  </thead>\n",
       "  <tbody>\n",
       "    <tr>\n",
       "      <th>810643898</th>\n",
       "      <td>film &amp; video</td>\n",
       "      <td>documentary</td>\n",
       "    </tr>\n",
       "    <tr>\n",
       "      <th>407153952</th>\n",
       "      <td>music</td>\n",
       "      <td>misc</td>\n",
       "    </tr>\n",
       "    <tr>\n",
       "      <th>531190382</th>\n",
       "      <td>music</td>\n",
       "      <td>rock</td>\n",
       "    </tr>\n",
       "    <tr>\n",
       "      <th>1253528325</th>\n",
       "      <td>games</td>\n",
       "      <td>misc</td>\n",
       "    </tr>\n",
       "    <tr>\n",
       "      <th>379783411</th>\n",
       "      <td>publishing</td>\n",
       "      <td>misc</td>\n",
       "    </tr>\n",
       "  </tbody>\n",
       "</table>\n",
       "</div>"
      ],
      "text/plain": [
       "                 gen_cat  precise_cat\n",
       "id                                   \n",
       "810643898   film & video  documentary\n",
       "407153952          music         misc\n",
       "531190382          music         rock\n",
       "1253528325         games         misc\n",
       "379783411     publishing         misc"
      ]
     },
     "execution_count": 37,
     "metadata": {},
     "output_type": "execute_result"
    }
   ],
   "source": [
    "ce = CategoriesExtractor(use_all=False)\n",
    "ce.fit(X_train)\n",
    "ce.transform(X_train).head()"
   ]
  },
  {
   "cell_type": "code",
   "execution_count": 18,
   "metadata": {},
   "outputs": [
    {
     "data": {
      "text/plain": [
       "Index(['photo', 'name', 'blurb', 'goal', 'slug', 'disable_communication',\n",
       "       'country', 'currency', 'currency_symbol', 'currency_trailing_code',\n",
       "       'deadline', 'created_at', 'launched_at', 'static_usd_rate', 'creator',\n",
       "       'location', 'category', 'profile', 'urls', 'source_url', 'friends',\n",
       "       'is_starred', 'is_backing', 'permissions'],\n",
       "      dtype='object')"
      ]
     },
     "execution_count": 18,
     "metadata": {},
     "output_type": "execute_result"
    }
   ],
   "source": [
    "X_train.columns"
   ]
  },
  {
   "cell_type": "markdown",
   "metadata": {},
   "source": [
    "**Simple transformer that returns column adjusted_goal which is the goal multiplied by static_usd_rate**"
   ]
  },
  {
   "cell_type": "code",
   "execution_count": 43,
   "metadata": {},
   "outputs": [
    {
     "data": {
      "text/html": [
       "<div>\n",
       "<style scoped>\n",
       "    .dataframe tbody tr th:only-of-type {\n",
       "        vertical-align: middle;\n",
       "    }\n",
       "\n",
       "    .dataframe tbody tr th {\n",
       "        vertical-align: top;\n",
       "    }\n",
       "\n",
       "    .dataframe thead th {\n",
       "        text-align: right;\n",
       "    }\n",
       "</style>\n",
       "<table border=\"1\" class=\"dataframe\">\n",
       "  <thead>\n",
       "    <tr style=\"text-align: right;\">\n",
       "      <th></th>\n",
       "      <th>adjusted_goal</th>\n",
       "    </tr>\n",
       "    <tr>\n",
       "      <th>id</th>\n",
       "      <th></th>\n",
       "    </tr>\n",
       "  </thead>\n",
       "  <tbody>\n",
       "    <tr>\n",
       "      <th>810643898</th>\n",
       "      <td>6000.0</td>\n",
       "    </tr>\n",
       "    <tr>\n",
       "      <th>407153952</th>\n",
       "      <td>1500.0</td>\n",
       "    </tr>\n",
       "    <tr>\n",
       "      <th>531190382</th>\n",
       "      <td>1000.0</td>\n",
       "    </tr>\n",
       "    <tr>\n",
       "      <th>1253528325</th>\n",
       "      <td>3000.0</td>\n",
       "    </tr>\n",
       "    <tr>\n",
       "      <th>379783411</th>\n",
       "      <td>2500.0</td>\n",
       "    </tr>\n",
       "  </tbody>\n",
       "</table>\n",
       "</div>"
      ],
      "text/plain": [
       "            adjusted_goal\n",
       "id                       \n",
       "810643898          6000.0\n",
       "407153952          1500.0\n",
       "531190382          1000.0\n",
       "1253528325         3000.0\n",
       "379783411          2500.0"
      ]
     },
     "execution_count": 43,
     "metadata": {},
     "output_type": "execute_result"
    }
   ],
   "source": [
    "ga = GoalAdjustor()\n",
    "ga.transform(X_train).head()"
   ]
  },
  {
   "cell_type": "markdown",
   "metadata": {},
   "source": [
    "### Feature Engineering"
   ]
  },
  {
   "cell_type": "markdown",
   "metadata": {},
   "source": [
    "**Computes number of days betweeen deadline and launched, launched and created.**"
   ]
  },
  {
   "cell_type": "code",
   "execution_count": 39,
   "metadata": {},
   "outputs": [
    {
     "data": {
      "text/html": [
       "<div>\n",
       "<style scoped>\n",
       "    .dataframe tbody tr th:only-of-type {\n",
       "        vertical-align: middle;\n",
       "    }\n",
       "\n",
       "    .dataframe tbody tr th {\n",
       "        vertical-align: top;\n",
       "    }\n",
       "\n",
       "    .dataframe thead th {\n",
       "        text-align: right;\n",
       "    }\n",
       "</style>\n",
       "<table border=\"1\" class=\"dataframe\">\n",
       "  <thead>\n",
       "    <tr style=\"text-align: right;\">\n",
       "      <th></th>\n",
       "      <th>launched_to_deadline</th>\n",
       "      <th>created_to_launched</th>\n",
       "    </tr>\n",
       "    <tr>\n",
       "      <th>id</th>\n",
       "      <th></th>\n",
       "      <th></th>\n",
       "    </tr>\n",
       "  </thead>\n",
       "  <tbody>\n",
       "    <tr>\n",
       "      <th>810643898</th>\n",
       "      <td>40</td>\n",
       "      <td>24</td>\n",
       "    </tr>\n",
       "    <tr>\n",
       "      <th>407153952</th>\n",
       "      <td>29</td>\n",
       "      <td>2</td>\n",
       "    </tr>\n",
       "    <tr>\n",
       "      <th>531190382</th>\n",
       "      <td>21</td>\n",
       "      <td>21</td>\n",
       "    </tr>\n",
       "    <tr>\n",
       "      <th>1253528325</th>\n",
       "      <td>39</td>\n",
       "      <td>61</td>\n",
       "    </tr>\n",
       "    <tr>\n",
       "      <th>379783411</th>\n",
       "      <td>30</td>\n",
       "      <td>201</td>\n",
       "    </tr>\n",
       "  </tbody>\n",
       "</table>\n",
       "</div>"
      ],
      "text/plain": [
       "            launched_to_deadline  created_to_launched\n",
       "id                                                   \n",
       "810643898                     40                   24\n",
       "407153952                     29                    2\n",
       "531190382                     21                   21\n",
       "1253528325                    39                   61\n",
       "379783411                     30                  201"
      ]
     },
     "execution_count": 39,
     "metadata": {},
     "output_type": "execute_result"
    }
   ],
   "source": [
    "tt = TimeTransformer()\n",
    "tt.transform(X_train).head()"
   ]
  },
  {
   "cell_type": "markdown",
   "metadata": {},
   "source": [
    "### CountryTransformer\n",
    "**Returns a larger area for the country feature, allowing to have less dummy features later. Provides a dictionary of countries and their corresponding groups.**"
   ]
  },
  {
   "cell_type": "code",
   "execution_count": 29,
   "metadata": {},
   "outputs": [
    {
     "data": {
      "text/html": [
       "<div>\n",
       "<style scoped>\n",
       "    .dataframe tbody tr th:only-of-type {\n",
       "        vertical-align: middle;\n",
       "    }\n",
       "\n",
       "    .dataframe tbody tr th {\n",
       "        vertical-align: top;\n",
       "    }\n",
       "\n",
       "    .dataframe thead th {\n",
       "        text-align: right;\n",
       "    }\n",
       "</style>\n",
       "<table border=\"1\" class=\"dataframe\">\n",
       "  <thead>\n",
       "    <tr style=\"text-align: right;\">\n",
       "      <th></th>\n",
       "      <th>country</th>\n",
       "    </tr>\n",
       "    <tr>\n",
       "      <th>id</th>\n",
       "      <th></th>\n",
       "    </tr>\n",
       "  </thead>\n",
       "  <tbody>\n",
       "    <tr>\n",
       "      <th>1017456318</th>\n",
       "      <td>US</td>\n",
       "    </tr>\n",
       "    <tr>\n",
       "      <th>529322416</th>\n",
       "      <td>US</td>\n",
       "    </tr>\n",
       "    <tr>\n",
       "      <th>184095173</th>\n",
       "      <td>US</td>\n",
       "    </tr>\n",
       "    <tr>\n",
       "      <th>87488242</th>\n",
       "      <td>US</td>\n",
       "    </tr>\n",
       "    <tr>\n",
       "      <th>1217484817</th>\n",
       "      <td>US</td>\n",
       "    </tr>\n",
       "    <tr>\n",
       "      <th>833025938</th>\n",
       "      <td>US</td>\n",
       "    </tr>\n",
       "    <tr>\n",
       "      <th>267225132</th>\n",
       "      <td>Oceania</td>\n",
       "    </tr>\n",
       "    <tr>\n",
       "      <th>1748542962</th>\n",
       "      <td>US</td>\n",
       "    </tr>\n",
       "    <tr>\n",
       "      <th>1997775757</th>\n",
       "      <td>Europe</td>\n",
       "    </tr>\n",
       "    <tr>\n",
       "      <th>1121029914</th>\n",
       "      <td>UK &amp; Ireland</td>\n",
       "    </tr>\n",
       "  </tbody>\n",
       "</table>\n",
       "</div>"
      ],
      "text/plain": [
       "                 country\n",
       "id                      \n",
       "1017456318            US\n",
       "529322416             US\n",
       "184095173             US\n",
       "87488242              US\n",
       "1217484817            US\n",
       "833025938             US\n",
       "267225132        Oceania\n",
       "1748542962            US\n",
       "1997775757        Europe\n",
       "1121029914  UK & Ireland"
      ]
     },
     "execution_count": 29,
     "metadata": {},
     "output_type": "execute_result"
    }
   ],
   "source": [
    "ct = CountryTransformer()\n",
    "ct.transform(X_train).sample(10)"
   ]
  },
  {
   "cell_type": "markdown",
   "metadata": {},
   "source": [
    "## ColumnTransformer & Pipeline"
   ]
  },
  {
   "cell_type": "markdown",
   "metadata": {},
   "source": [
    "**Here we will implement the `build_model` function that is defined in `model.py`. This function should return a new Pipeline object that has two stages:**\n",
    "- `preprocessor`: A ColumnTransformer object that has all your preprocessing steps\n",
    "- `model`: A predictive model, here we will use the `DecisionTreeClassifier`\n",
    "\n",
    "**We are providing code to build two simple intermediary Pipeline objects: `cat_processor` and `country_processor`. Those are just combining our `CategoriesExtractor` and `CountryTransformer` with a `OneHotEncoder` stage so the output is an array of 1 and 0 for all.**\n",
    "\n",
    "- the main ColumnTransformer that puts all the transformers together and applies them on the right columns\n",
    "- the final Pipeline object that puts together the preprocessor and model.\n",
    "\n",
    "The code below will get a new model using this function, train it on the data and generate predictions"
   ]
  },
  {
   "cell_type": "code",
   "execution_count": 52,
   "metadata": {},
   "outputs": [
    {
     "data": {
      "text/plain": [
       "array([1, 1, 1, ..., 0, 1, 1])"
      ]
     },
     "execution_count": 52,
     "metadata": {},
     "output_type": "execute_result"
    }
   ],
   "source": [
    "model = build_model()\n",
    "model.fit(X_train, y_train)\n",
    "model.predict(X_train)"
   ]
  },
  {
   "cell_type": "code",
   "execution_count": null,
   "metadata": {},
   "outputs": [],
   "source": []
  },
  {
   "cell_type": "code",
   "execution_count": null,
   "metadata": {},
   "outputs": [],
   "source": []
  },
  {
   "cell_type": "code",
   "execution_count": null,
   "metadata": {},
   "outputs": [],
   "source": []
  },
  {
   "cell_type": "code",
   "execution_count": null,
   "metadata": {},
   "outputs": [],
   "source": []
  },
  {
   "cell_type": "code",
   "execution_count": null,
   "metadata": {},
   "outputs": [],
   "source": []
  },
  {
   "cell_type": "code",
   "execution_count": null,
   "metadata": {},
   "outputs": [],
   "source": []
  },
  {
   "cell_type": "code",
   "execution_count": null,
   "metadata": {},
   "outputs": [],
   "source": []
  },
  {
   "cell_type": "code",
   "execution_count": null,
   "metadata": {},
   "outputs": [],
   "source": []
  },
  {
   "cell_type": "code",
   "execution_count": null,
   "metadata": {},
   "outputs": [],
   "source": []
  },
  {
   "cell_type": "code",
   "execution_count": null,
   "metadata": {},
   "outputs": [],
   "source": []
  },
  {
   "cell_type": "code",
   "execution_count": null,
   "metadata": {},
   "outputs": [],
   "source": []
  },
  {
   "cell_type": "code",
   "execution_count": null,
   "metadata": {},
   "outputs": [],
   "source": []
  },
  {
   "cell_type": "code",
   "execution_count": null,
   "metadata": {},
   "outputs": [],
   "source": []
  },
  {
   "cell_type": "code",
   "execution_count": null,
   "metadata": {},
   "outputs": [],
   "source": []
  },
  {
   "cell_type": "code",
   "execution_count": null,
   "metadata": {},
   "outputs": [],
   "source": []
  },
  {
   "cell_type": "code",
   "execution_count": null,
   "metadata": {},
   "outputs": [],
   "source": []
  },
  {
   "cell_type": "code",
   "execution_count": null,
   "metadata": {},
   "outputs": [],
   "source": []
  },
  {
   "cell_type": "code",
   "execution_count": null,
   "metadata": {},
   "outputs": [],
   "source": []
  },
  {
   "cell_type": "code",
   "execution_count": null,
   "metadata": {},
   "outputs": [],
   "source": []
  }
 ],
 "metadata": {
  "kernelspec": {
   "display_name": "venv",
   "language": "python",
   "name": "venv"
  },
  "language_info": {
   "codemirror_mode": {
    "name": "ipython",
    "version": 3
   },
   "file_extension": ".py",
   "mimetype": "text/x-python",
   "name": "python",
   "nbconvert_exporter": "python",
   "pygments_lexer": "ipython3",
   "version": "3.7.3"
  }
 },
 "nbformat": 4,
 "nbformat_minor": 2
}
