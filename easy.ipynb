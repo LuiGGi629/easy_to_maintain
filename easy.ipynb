{
 "cells": [
  {
   "cell_type": "markdown",
   "metadata": {},
   "source": [
    "Since I will be working in an IDE and importing my functions and classes in this notebook, I can use the **autoreload** magic method that automatically reloads my code when I modify it, so I do not have to restart the notebook everytime."
   ]
  },
  {
   "cell_type": "markdown",
   "metadata": {},
   "source": [
    "**Notebook contains only the code to test implementation and the implementation itself is in the file.**"
   ]
  },
  {
   "cell_type": "code",
   "execution_count": 1,
   "metadata": {},
   "outputs": [],
   "source": [
    "%load_ext autoreload\n",
    "%autoreload 2"
   ]
  },
  {
   "cell_type": "code",
   "execution_count": 2,
   "metadata": {},
   "outputs": [],
   "source": [
    "%reload_ext autoreload"
   ]
  },
  {
   "cell_type": "code",
   "execution_count": 50,
   "metadata": {},
   "outputs": [],
   "source": [
    "import pandas as pd\n",
    "import joblib\n",
    "import json\n",
    "from src.model import load_dataset, build_model, tune_model, train_model, \\\n",
    "    test_model\n",
    "from src.transformers import CategoriesExtractor, GoalAdjustor, TimeTransformer, \\\n",
    "    CountryTransformer\n",
    "from src.config import MODEL_NAME\n",
    "from truth.truth import AssertThat\n",
    "from hypothesis.strategies import text, lists, fixed_dictionaries, from_regex\n",
    "from hypothesis.extra.pandas import column, data_frames\n",
    "pd.set_option('display.max_columns', 100)"
   ]
  },
  {
   "cell_type": "code",
   "execution_count": 7,
   "metadata": {},
   "outputs": [
    {
     "data": {
      "text/html": [
       "<div>\n",
       "<style scoped>\n",
       "    .dataframe tbody tr th:only-of-type {\n",
       "        vertical-align: middle;\n",
       "    }\n",
       "\n",
       "    .dataframe tbody tr th {\n",
       "        vertical-align: top;\n",
       "    }\n",
       "\n",
       "    .dataframe thead th {\n",
       "        text-align: right;\n",
       "    }\n",
       "</style>\n",
       "<table border=\"1\" class=\"dataframe\">\n",
       "  <thead>\n",
       "    <tr style=\"text-align: right;\">\n",
       "      <th></th>\n",
       "      <th>photo</th>\n",
       "      <th>name</th>\n",
       "      <th>blurb</th>\n",
       "      <th>goal</th>\n",
       "      <th>slug</th>\n",
       "      <th>disable_communication</th>\n",
       "      <th>country</th>\n",
       "      <th>currency</th>\n",
       "      <th>currency_symbol</th>\n",
       "      <th>currency_trailing_code</th>\n",
       "      <th>deadline</th>\n",
       "      <th>created_at</th>\n",
       "      <th>launched_at</th>\n",
       "      <th>static_usd_rate</th>\n",
       "      <th>creator</th>\n",
       "      <th>location</th>\n",
       "      <th>category</th>\n",
       "      <th>profile</th>\n",
       "      <th>urls</th>\n",
       "      <th>source_url</th>\n",
       "      <th>friends</th>\n",
       "      <th>is_starred</th>\n",
       "      <th>is_backing</th>\n",
       "      <th>permissions</th>\n",
       "    </tr>\n",
       "    <tr>\n",
       "      <th>id</th>\n",
       "      <th></th>\n",
       "      <th></th>\n",
       "      <th></th>\n",
       "      <th></th>\n",
       "      <th></th>\n",
       "      <th></th>\n",
       "      <th></th>\n",
       "      <th></th>\n",
       "      <th></th>\n",
       "      <th></th>\n",
       "      <th></th>\n",
       "      <th></th>\n",
       "      <th></th>\n",
       "      <th></th>\n",
       "      <th></th>\n",
       "      <th></th>\n",
       "      <th></th>\n",
       "      <th></th>\n",
       "      <th></th>\n",
       "      <th></th>\n",
       "      <th></th>\n",
       "      <th></th>\n",
       "      <th></th>\n",
       "      <th></th>\n",
       "    </tr>\n",
       "  </thead>\n",
       "  <tbody>\n",
       "    <tr>\n",
       "      <th>810643898</th>\n",
       "      <td>{\"small\":\"https://ksr-ugc.imgix.net/assets/011...</td>\n",
       "      <td>Reverence: A Documentary Short on Branded Yarm...</td>\n",
       "      <td>A documentary exploring the phenomenon of cust...</td>\n",
       "      <td>6000.0</td>\n",
       "      <td>reverence-a-documentary-short-on-custom-yarmulkes</td>\n",
       "      <td>False</td>\n",
       "      <td>US</td>\n",
       "      <td>USD</td>\n",
       "      <td>$</td>\n",
       "      <td>True</td>\n",
       "      <td>1383676790</td>\n",
       "      <td>1378142506</td>\n",
       "      <td>1380217190</td>\n",
       "      <td>1.0</td>\n",
       "      <td>{\"urls\":{\"web\":{\"user\":\"https://www.kickstarte...</td>\n",
       "      <td>{\"country\":\"US\",\"urls\":{\"web\":{\"discover\":\"htt...</td>\n",
       "      <td>{\"urls\":{\"web\":{\"discover\":\"http://www.kicksta...</td>\n",
       "      <td>{\"background_image_opacity\":0.8,\"should_show_f...</td>\n",
       "      <td>{\"web\":{\"project\":\"https://www.kickstarter.com...</td>\n",
       "      <td>https://www.kickstarter.com/discover/categorie...</td>\n",
       "      <td>NaN</td>\n",
       "      <td>NaN</td>\n",
       "      <td>NaN</td>\n",
       "      <td>NaN</td>\n",
       "    </tr>\n",
       "    <tr>\n",
       "      <th>407153952</th>\n",
       "      <td>{\"small\":\"https://ksr-ugc.imgix.net/assets/011...</td>\n",
       "      <td>YOU Release the NEW Goddamn Electric Bill VINY...</td>\n",
       "      <td>Guarantee yourself one of 250 limited vinyl re...</td>\n",
       "      <td>1500.0</td>\n",
       "      <td>you-release-the-new-goddamn-electric-bill-viny...</td>\n",
       "      <td>False</td>\n",
       "      <td>US</td>\n",
       "      <td>USD</td>\n",
       "      <td>$</td>\n",
       "      <td>True</td>\n",
       "      <td>1284757200</td>\n",
       "      <td>1282000087</td>\n",
       "      <td>1282175023</td>\n",
       "      <td>1.0</td>\n",
       "      <td>{\"urls\":{\"web\":{\"user\":\"https://www.kickstarte...</td>\n",
       "      <td>{\"country\":\"US\",\"urls\":{\"web\":{\"discover\":\"htt...</td>\n",
       "      <td>{\"urls\":{\"web\":{\"discover\":\"http://www.kicksta...</td>\n",
       "      <td>{\"background_image_opacity\":0.8,\"should_show_f...</td>\n",
       "      <td>{\"web\":{\"project\":\"https://www.kickstarter.com...</td>\n",
       "      <td>https://www.kickstarter.com/discover/categorie...</td>\n",
       "      <td>NaN</td>\n",
       "      <td>NaN</td>\n",
       "      <td>NaN</td>\n",
       "      <td>NaN</td>\n",
       "    </tr>\n",
       "    <tr>\n",
       "      <th>531190382</th>\n",
       "      <td>{\"small\":\"https://ksr-ugc.imgix.net/assets/011...</td>\n",
       "      <td>Lonely Estates Album</td>\n",
       "      <td>Lonely Estates are almost done with their debu...</td>\n",
       "      <td>1000.0</td>\n",
       "      <td>lonely-estates-album</td>\n",
       "      <td>False</td>\n",
       "      <td>US</td>\n",
       "      <td>USD</td>\n",
       "      <td>$</td>\n",
       "      <td>True</td>\n",
       "      <td>1319133283</td>\n",
       "      <td>1315424966</td>\n",
       "      <td>1317318883</td>\n",
       "      <td>1.0</td>\n",
       "      <td>{\"urls\":{\"web\":{\"user\":\"https://www.kickstarte...</td>\n",
       "      <td>{\"country\":\"US\",\"urls\":{\"web\":{\"discover\":\"htt...</td>\n",
       "      <td>{\"urls\":{\"web\":{\"discover\":\"http://www.kicksta...</td>\n",
       "      <td>{\"background_image_opacity\":0.8,\"should_show_f...</td>\n",
       "      <td>{\"web\":{\"project\":\"https://www.kickstarter.com...</td>\n",
       "      <td>https://www.kickstarter.com/discover/categorie...</td>\n",
       "      <td>NaN</td>\n",
       "      <td>NaN</td>\n",
       "      <td>NaN</td>\n",
       "      <td>NaN</td>\n",
       "    </tr>\n",
       "    <tr>\n",
       "      <th>1253528325</th>\n",
       "      <td>{\"small\":\"https://ksr-ugc.imgix.net/assets/012...</td>\n",
       "      <td>Crit Hit! 2016 - a tabletop roleplaying gather...</td>\n",
       "      <td>A tabletop RPG focused event where you can pla...</td>\n",
       "      <td>3000.0</td>\n",
       "      <td>crit-hit-2016-a-tabletop-roleplaying-gathering-in</td>\n",
       "      <td>False</td>\n",
       "      <td>US</td>\n",
       "      <td>USD</td>\n",
       "      <td>$</td>\n",
       "      <td>True</td>\n",
       "      <td>1460442791</td>\n",
       "      <td>1451709060</td>\n",
       "      <td>1456990391</td>\n",
       "      <td>1.0</td>\n",
       "      <td>{\"urls\":{\"web\":{\"user\":\"https://www.kickstarte...</td>\n",
       "      <td>{\"country\":\"US\",\"urls\":{\"web\":{\"discover\":\"htt...</td>\n",
       "      <td>{\"urls\":{\"web\":{\"discover\":\"http://www.kicksta...</td>\n",
       "      <td>{\"background_image_opacity\":1,\"should_show_fea...</td>\n",
       "      <td>{\"web\":{\"project\":\"https://www.kickstarter.com...</td>\n",
       "      <td>https://www.kickstarter.com/discover/categorie...</td>\n",
       "      <td>NaN</td>\n",
       "      <td>NaN</td>\n",
       "      <td>NaN</td>\n",
       "      <td>NaN</td>\n",
       "    </tr>\n",
       "    <tr>\n",
       "      <th>379783411</th>\n",
       "      <td>{\"small\":\"https://ksr-ugc.imgix.net/assets/011...</td>\n",
       "      <td>Hillsboro Arts Preschool Yearbook</td>\n",
       "      <td>The Yearbook will be a collection of drawings,...</td>\n",
       "      <td>2500.0</td>\n",
       "      <td>hillsboro-arts-preschool-yearbook</td>\n",
       "      <td>False</td>\n",
       "      <td>US</td>\n",
       "      <td>USD</td>\n",
       "      <td>$</td>\n",
       "      <td>True</td>\n",
       "      <td>1356197572</td>\n",
       "      <td>1336233031</td>\n",
       "      <td>1353605572</td>\n",
       "      <td>1.0</td>\n",
       "      <td>{\"urls\":{\"web\":{\"user\":\"https://www.kickstarte...</td>\n",
       "      <td>{\"country\":\"US\",\"urls\":{\"web\":{\"discover\":\"htt...</td>\n",
       "      <td>{\"urls\":{\"web\":{\"discover\":\"http://www.kicksta...</td>\n",
       "      <td>{\"background_image_opacity\":0.8,\"should_show_f...</td>\n",
       "      <td>{\"web\":{\"project\":\"https://www.kickstarter.com...</td>\n",
       "      <td>https://www.kickstarter.com/discover/categorie...</td>\n",
       "      <td>NaN</td>\n",
       "      <td>NaN</td>\n",
       "      <td>NaN</td>\n",
       "      <td>NaN</td>\n",
       "    </tr>\n",
       "  </tbody>\n",
       "</table>\n",
       "</div>"
      ],
      "text/plain": [
       "                                                        photo  \\\n",
       "id                                                              \n",
       "810643898   {\"small\":\"https://ksr-ugc.imgix.net/assets/011...   \n",
       "407153952   {\"small\":\"https://ksr-ugc.imgix.net/assets/011...   \n",
       "531190382   {\"small\":\"https://ksr-ugc.imgix.net/assets/011...   \n",
       "1253528325  {\"small\":\"https://ksr-ugc.imgix.net/assets/012...   \n",
       "379783411   {\"small\":\"https://ksr-ugc.imgix.net/assets/011...   \n",
       "\n",
       "                                                         name  \\\n",
       "id                                                              \n",
       "810643898   Reverence: A Documentary Short on Branded Yarm...   \n",
       "407153952   YOU Release the NEW Goddamn Electric Bill VINY...   \n",
       "531190382                                Lonely Estates Album   \n",
       "1253528325  Crit Hit! 2016 - a tabletop roleplaying gather...   \n",
       "379783411                   Hillsboro Arts Preschool Yearbook   \n",
       "\n",
       "                                                        blurb    goal  \\\n",
       "id                                                                      \n",
       "810643898   A documentary exploring the phenomenon of cust...  6000.0   \n",
       "407153952   Guarantee yourself one of 250 limited vinyl re...  1500.0   \n",
       "531190382   Lonely Estates are almost done with their debu...  1000.0   \n",
       "1253528325  A tabletop RPG focused event where you can pla...  3000.0   \n",
       "379783411   The Yearbook will be a collection of drawings,...  2500.0   \n",
       "\n",
       "                                                         slug  \\\n",
       "id                                                              \n",
       "810643898   reverence-a-documentary-short-on-custom-yarmulkes   \n",
       "407153952   you-release-the-new-goddamn-electric-bill-viny...   \n",
       "531190382                                lonely-estates-album   \n",
       "1253528325  crit-hit-2016-a-tabletop-roleplaying-gathering-in   \n",
       "379783411                   hillsboro-arts-preschool-yearbook   \n",
       "\n",
       "            disable_communication country currency currency_symbol  \\\n",
       "id                                                                   \n",
       "810643898                   False      US      USD               $   \n",
       "407153952                   False      US      USD               $   \n",
       "531190382                   False      US      USD               $   \n",
       "1253528325                  False      US      USD               $   \n",
       "379783411                   False      US      USD               $   \n",
       "\n",
       "            currency_trailing_code    deadline  created_at  launched_at  \\\n",
       "id                                                                        \n",
       "810643898                     True  1383676790  1378142506   1380217190   \n",
       "407153952                     True  1284757200  1282000087   1282175023   \n",
       "531190382                     True  1319133283  1315424966   1317318883   \n",
       "1253528325                    True  1460442791  1451709060   1456990391   \n",
       "379783411                     True  1356197572  1336233031   1353605572   \n",
       "\n",
       "            static_usd_rate  \\\n",
       "id                            \n",
       "810643898               1.0   \n",
       "407153952               1.0   \n",
       "531190382               1.0   \n",
       "1253528325              1.0   \n",
       "379783411               1.0   \n",
       "\n",
       "                                                      creator  \\\n",
       "id                                                              \n",
       "810643898   {\"urls\":{\"web\":{\"user\":\"https://www.kickstarte...   \n",
       "407153952   {\"urls\":{\"web\":{\"user\":\"https://www.kickstarte...   \n",
       "531190382   {\"urls\":{\"web\":{\"user\":\"https://www.kickstarte...   \n",
       "1253528325  {\"urls\":{\"web\":{\"user\":\"https://www.kickstarte...   \n",
       "379783411   {\"urls\":{\"web\":{\"user\":\"https://www.kickstarte...   \n",
       "\n",
       "                                                     location  \\\n",
       "id                                                              \n",
       "810643898   {\"country\":\"US\",\"urls\":{\"web\":{\"discover\":\"htt...   \n",
       "407153952   {\"country\":\"US\",\"urls\":{\"web\":{\"discover\":\"htt...   \n",
       "531190382   {\"country\":\"US\",\"urls\":{\"web\":{\"discover\":\"htt...   \n",
       "1253528325  {\"country\":\"US\",\"urls\":{\"web\":{\"discover\":\"htt...   \n",
       "379783411   {\"country\":\"US\",\"urls\":{\"web\":{\"discover\":\"htt...   \n",
       "\n",
       "                                                     category  \\\n",
       "id                                                              \n",
       "810643898   {\"urls\":{\"web\":{\"discover\":\"http://www.kicksta...   \n",
       "407153952   {\"urls\":{\"web\":{\"discover\":\"http://www.kicksta...   \n",
       "531190382   {\"urls\":{\"web\":{\"discover\":\"http://www.kicksta...   \n",
       "1253528325  {\"urls\":{\"web\":{\"discover\":\"http://www.kicksta...   \n",
       "379783411   {\"urls\":{\"web\":{\"discover\":\"http://www.kicksta...   \n",
       "\n",
       "                                                      profile  \\\n",
       "id                                                              \n",
       "810643898   {\"background_image_opacity\":0.8,\"should_show_f...   \n",
       "407153952   {\"background_image_opacity\":0.8,\"should_show_f...   \n",
       "531190382   {\"background_image_opacity\":0.8,\"should_show_f...   \n",
       "1253528325  {\"background_image_opacity\":1,\"should_show_fea...   \n",
       "379783411   {\"background_image_opacity\":0.8,\"should_show_f...   \n",
       "\n",
       "                                                         urls  \\\n",
       "id                                                              \n",
       "810643898   {\"web\":{\"project\":\"https://www.kickstarter.com...   \n",
       "407153952   {\"web\":{\"project\":\"https://www.kickstarter.com...   \n",
       "531190382   {\"web\":{\"project\":\"https://www.kickstarter.com...   \n",
       "1253528325  {\"web\":{\"project\":\"https://www.kickstarter.com...   \n",
       "379783411   {\"web\":{\"project\":\"https://www.kickstarter.com...   \n",
       "\n",
       "                                                   source_url friends  \\\n",
       "id                                                                      \n",
       "810643898   https://www.kickstarter.com/discover/categorie...     NaN   \n",
       "407153952   https://www.kickstarter.com/discover/categorie...     NaN   \n",
       "531190382   https://www.kickstarter.com/discover/categorie...     NaN   \n",
       "1253528325  https://www.kickstarter.com/discover/categorie...     NaN   \n",
       "379783411   https://www.kickstarter.com/discover/categorie...     NaN   \n",
       "\n",
       "           is_starred is_backing permissions  \n",
       "id                                            \n",
       "810643898         NaN        NaN         NaN  \n",
       "407153952         NaN        NaN         NaN  \n",
       "531190382         NaN        NaN         NaN  \n",
       "1253528325        NaN        NaN         NaN  \n",
       "379783411         NaN        NaN         NaN  "
      ]
     },
     "execution_count": 7,
     "metadata": {},
     "output_type": "execute_result"
    }
   ],
   "source": [
    "X_train, y_train = load_dataset(\"X_train.zip\", \"y_train.zip\")\n",
    "X_train.head()"
   ]
  },
  {
   "cell_type": "code",
   "execution_count": 8,
   "metadata": {},
   "outputs": [
    {
     "data": {
      "text/plain": [
       "'{\"urls\":{\"web\":{\"discover\":\"http://www.kickstarter.com/discover/categories/publishing/art%20books\"}},\"color\":14867664,\"parent_id\":18,\"name\":\"Art Books\",\"id\":45,\"position\":3,\"slug\":\"publishing/art books\"}'"
      ]
     },
     "execution_count": 8,
     "metadata": {},
     "output_type": "execute_result"
    }
   ],
   "source": [
    "X_train.category[379783411]"
   ]
  },
  {
   "cell_type": "markdown",
   "metadata": {},
   "source": [
    "**Here we will create a new transformer that allows to extra categories from the `category` column that is stored as a json. We want this transformer to have a parameter `validate` that allows us to choose between filtering to use only a subset of hardcoded categories we care about or get all categories found in the json.**\n",
    "\n",
    "**The `transform` method should return two new columns, `gen_cat` the generic categorie, and `precise_cat` the precise category, those are extracted by assuming the json contains a string in the format `gen_cat/precise_cat`. We provide the method `extract_categories` that gets the two categories, and filter if necessary, so you only have to implement `fit` and `transform` to return the two new columns we want:**"
   ]
  },
  {
   "cell_type": "code",
   "execution_count": 9,
   "metadata": {},
   "outputs": [
    {
     "data": {
      "text/html": [
       "<div>\n",
       "<style scoped>\n",
       "    .dataframe tbody tr th:only-of-type {\n",
       "        vertical-align: middle;\n",
       "    }\n",
       "\n",
       "    .dataframe tbody tr th {\n",
       "        vertical-align: top;\n",
       "    }\n",
       "\n",
       "    .dataframe thead th {\n",
       "        text-align: right;\n",
       "    }\n",
       "</style>\n",
       "<table border=\"1\" class=\"dataframe\">\n",
       "  <thead>\n",
       "    <tr style=\"text-align: right;\">\n",
       "      <th></th>\n",
       "      <th>gen_cat</th>\n",
       "      <th>precise_cat</th>\n",
       "    </tr>\n",
       "    <tr>\n",
       "      <th>id</th>\n",
       "      <th></th>\n",
       "      <th></th>\n",
       "    </tr>\n",
       "  </thead>\n",
       "  <tbody>\n",
       "    <tr>\n",
       "      <th>810643898</th>\n",
       "      <td>film &amp; video</td>\n",
       "      <td>documentary</td>\n",
       "    </tr>\n",
       "    <tr>\n",
       "      <th>407153952</th>\n",
       "      <td>music</td>\n",
       "      <td>misc</td>\n",
       "    </tr>\n",
       "    <tr>\n",
       "      <th>531190382</th>\n",
       "      <td>music</td>\n",
       "      <td>rock</td>\n",
       "    </tr>\n",
       "    <tr>\n",
       "      <th>1253528325</th>\n",
       "      <td>games</td>\n",
       "      <td>misc</td>\n",
       "    </tr>\n",
       "    <tr>\n",
       "      <th>379783411</th>\n",
       "      <td>publishing</td>\n",
       "      <td>misc</td>\n",
       "    </tr>\n",
       "  </tbody>\n",
       "</table>\n",
       "</div>"
      ],
      "text/plain": [
       "                 gen_cat  precise_cat\n",
       "id                                   \n",
       "810643898   film & video  documentary\n",
       "407153952          music         misc\n",
       "531190382          music         rock\n",
       "1253528325         games         misc\n",
       "379783411     publishing         misc"
      ]
     },
     "execution_count": 9,
     "metadata": {},
     "output_type": "execute_result"
    }
   ],
   "source": [
    "ce = CategoriesExtractor()\n",
    "ce.fit(X_train)\n",
    "ce.transform(X_train).head()"
   ]
  },
  {
   "cell_type": "code",
   "execution_count": 10,
   "metadata": {},
   "outputs": [
    {
     "data": {
      "text/plain": [
       "Index(['photo', 'name', 'blurb', 'goal', 'slug', 'disable_communication',\n",
       "       'country', 'currency', 'currency_symbol', 'currency_trailing_code',\n",
       "       'deadline', 'created_at', 'launched_at', 'static_usd_rate', 'creator',\n",
       "       'location', 'category', 'profile', 'urls', 'source_url', 'friends',\n",
       "       'is_starred', 'is_backing', 'permissions'],\n",
       "      dtype='object')"
      ]
     },
     "execution_count": 10,
     "metadata": {},
     "output_type": "execute_result"
    }
   ],
   "source": [
    "X_train.columns"
   ]
  },
  {
   "cell_type": "markdown",
   "metadata": {},
   "source": [
    "**Simple transformer that returns column adjusted_goal which is the goal multiplied by static_usd_rate**"
   ]
  },
  {
   "cell_type": "code",
   "execution_count": 11,
   "metadata": {},
   "outputs": [
    {
     "data": {
      "text/html": [
       "<div>\n",
       "<style scoped>\n",
       "    .dataframe tbody tr th:only-of-type {\n",
       "        vertical-align: middle;\n",
       "    }\n",
       "\n",
       "    .dataframe tbody tr th {\n",
       "        vertical-align: top;\n",
       "    }\n",
       "\n",
       "    .dataframe thead th {\n",
       "        text-align: right;\n",
       "    }\n",
       "</style>\n",
       "<table border=\"1\" class=\"dataframe\">\n",
       "  <thead>\n",
       "    <tr style=\"text-align: right;\">\n",
       "      <th></th>\n",
       "      <th>adjusted_goal</th>\n",
       "    </tr>\n",
       "    <tr>\n",
       "      <th>id</th>\n",
       "      <th></th>\n",
       "    </tr>\n",
       "  </thead>\n",
       "  <tbody>\n",
       "    <tr>\n",
       "      <th>810643898</th>\n",
       "      <td>6000.0</td>\n",
       "    </tr>\n",
       "    <tr>\n",
       "      <th>407153952</th>\n",
       "      <td>1500.0</td>\n",
       "    </tr>\n",
       "    <tr>\n",
       "      <th>531190382</th>\n",
       "      <td>1000.0</td>\n",
       "    </tr>\n",
       "    <tr>\n",
       "      <th>1253528325</th>\n",
       "      <td>3000.0</td>\n",
       "    </tr>\n",
       "    <tr>\n",
       "      <th>379783411</th>\n",
       "      <td>2500.0</td>\n",
       "    </tr>\n",
       "  </tbody>\n",
       "</table>\n",
       "</div>"
      ],
      "text/plain": [
       "            adjusted_goal\n",
       "id                       \n",
       "810643898          6000.0\n",
       "407153952          1500.0\n",
       "531190382          1000.0\n",
       "1253528325         3000.0\n",
       "379783411          2500.0"
      ]
     },
     "execution_count": 11,
     "metadata": {},
     "output_type": "execute_result"
    }
   ],
   "source": [
    "ga = GoalAdjustor()\n",
    "ga.transform(X_train).head()"
   ]
  },
  {
   "cell_type": "markdown",
   "metadata": {},
   "source": [
    "### Feature Engineering"
   ]
  },
  {
   "cell_type": "markdown",
   "metadata": {},
   "source": [
    "**Computes number of days betweeen deadline and launched, launched and created.**"
   ]
  },
  {
   "cell_type": "code",
   "execution_count": 23,
   "metadata": {},
   "outputs": [
    {
     "data": {
      "text/html": [
       "<div>\n",
       "<style scoped>\n",
       "    .dataframe tbody tr th:only-of-type {\n",
       "        vertical-align: middle;\n",
       "    }\n",
       "\n",
       "    .dataframe tbody tr th {\n",
       "        vertical-align: top;\n",
       "    }\n",
       "\n",
       "    .dataframe thead th {\n",
       "        text-align: right;\n",
       "    }\n",
       "</style>\n",
       "<table border=\"1\" class=\"dataframe\">\n",
       "  <thead>\n",
       "    <tr style=\"text-align: right;\">\n",
       "      <th></th>\n",
       "      <th>launched_to_deadline</th>\n",
       "      <th>created_to_launched</th>\n",
       "    </tr>\n",
       "    <tr>\n",
       "      <th>id</th>\n",
       "      <th></th>\n",
       "      <th></th>\n",
       "    </tr>\n",
       "  </thead>\n",
       "  <tbody>\n",
       "    <tr>\n",
       "      <th>810643898</th>\n",
       "      <td>40</td>\n",
       "      <td>24</td>\n",
       "    </tr>\n",
       "    <tr>\n",
       "      <th>407153952</th>\n",
       "      <td>29</td>\n",
       "      <td>2</td>\n",
       "    </tr>\n",
       "    <tr>\n",
       "      <th>531190382</th>\n",
       "      <td>21</td>\n",
       "      <td>21</td>\n",
       "    </tr>\n",
       "    <tr>\n",
       "      <th>1253528325</th>\n",
       "      <td>39</td>\n",
       "      <td>61</td>\n",
       "    </tr>\n",
       "    <tr>\n",
       "      <th>379783411</th>\n",
       "      <td>30</td>\n",
       "      <td>201</td>\n",
       "    </tr>\n",
       "  </tbody>\n",
       "</table>\n",
       "</div>"
      ],
      "text/plain": [
       "            launched_to_deadline  created_to_launched\n",
       "id                                                   \n",
       "810643898                     40                   24\n",
       "407153952                     29                    2\n",
       "531190382                     21                   21\n",
       "1253528325                    39                   61\n",
       "379783411                     30                  201"
      ]
     },
     "execution_count": 23,
     "metadata": {},
     "output_type": "execute_result"
    }
   ],
   "source": [
    "tt = TimeTransformer()\n",
    "tt.transform(X_train).head()"
   ]
  },
  {
   "cell_type": "markdown",
   "metadata": {},
   "source": [
    "### CountryTransformer\n",
    "**Returns a larger area for the country feature, allowing to have less dummy features later. Provides a dictionary of countries and their corresponding groups.**"
   ]
  },
  {
   "cell_type": "code",
   "execution_count": 16,
   "metadata": {},
   "outputs": [
    {
     "data": {
      "text/html": [
       "<div>\n",
       "<style scoped>\n",
       "    .dataframe tbody tr th:only-of-type {\n",
       "        vertical-align: middle;\n",
       "    }\n",
       "\n",
       "    .dataframe tbody tr th {\n",
       "        vertical-align: top;\n",
       "    }\n",
       "\n",
       "    .dataframe thead th {\n",
       "        text-align: right;\n",
       "    }\n",
       "</style>\n",
       "<table border=\"1\" class=\"dataframe\">\n",
       "  <thead>\n",
       "    <tr style=\"text-align: right;\">\n",
       "      <th></th>\n",
       "      <th>country</th>\n",
       "    </tr>\n",
       "    <tr>\n",
       "      <th>id</th>\n",
       "      <th></th>\n",
       "    </tr>\n",
       "  </thead>\n",
       "  <tbody>\n",
       "    <tr>\n",
       "      <th>918458039</th>\n",
       "      <td>UK &amp; Ireland</td>\n",
       "    </tr>\n",
       "    <tr>\n",
       "      <th>1875366029</th>\n",
       "      <td>US</td>\n",
       "    </tr>\n",
       "    <tr>\n",
       "      <th>1237505203</th>\n",
       "      <td>Europe</td>\n",
       "    </tr>\n",
       "    <tr>\n",
       "      <th>1500782856</th>\n",
       "      <td>US</td>\n",
       "    </tr>\n",
       "    <tr>\n",
       "      <th>148444406</th>\n",
       "      <td>US</td>\n",
       "    </tr>\n",
       "    <tr>\n",
       "      <th>1826807198</th>\n",
       "      <td>US</td>\n",
       "    </tr>\n",
       "    <tr>\n",
       "      <th>1509860155</th>\n",
       "      <td>US</td>\n",
       "    </tr>\n",
       "    <tr>\n",
       "      <th>499745770</th>\n",
       "      <td>Europe</td>\n",
       "    </tr>\n",
       "    <tr>\n",
       "      <th>1808799552</th>\n",
       "      <td>UK &amp; Ireland</td>\n",
       "    </tr>\n",
       "    <tr>\n",
       "      <th>660431949</th>\n",
       "      <td>US</td>\n",
       "    </tr>\n",
       "  </tbody>\n",
       "</table>\n",
       "</div>"
      ],
      "text/plain": [
       "                 country\n",
       "id                      \n",
       "918458039   UK & Ireland\n",
       "1875366029            US\n",
       "1237505203        Europe\n",
       "1500782856            US\n",
       "148444406             US\n",
       "1826807198            US\n",
       "1509860155            US\n",
       "499745770         Europe\n",
       "1808799552  UK & Ireland\n",
       "660431949             US"
      ]
     },
     "execution_count": 16,
     "metadata": {},
     "output_type": "execute_result"
    }
   ],
   "source": [
    "ct = CountryTransformer()\n",
    "ct.transform(X_train).sample(10)"
   ]
  },
  {
   "cell_type": "markdown",
   "metadata": {},
   "source": [
    "## ColumnTransformer & Pipeline"
   ]
  },
  {
   "cell_type": "markdown",
   "metadata": {},
   "source": [
    "**Here we will implement the `build_model` function that is defined in `model.py`. This function should return a new Pipeline object that has two stages:**\n",
    "- `preprocessor`: A ColumnTransformer object that has all your preprocessing steps\n",
    "- `model`: A predictive model, here we will use the `DecisionTreeClassifier`\n",
    "\n",
    "**We are providing code to build two simple intermediary Pipeline objects: `cat_processor` and `country_processor`. Those are just combining our `CategoriesExtractor` and `CountryTransformer` with a `OneHotEncoder` stage so the output is an array of 1 and 0 for all.**\n",
    "\n",
    "- the main ColumnTransformer that puts all the transformers together and applies them on the right columns\n",
    "- the final Pipeline object that puts together the preprocessor and model.\n",
    "\n",
    "The code below will get a new model using this function, train it on the data and generate predictions"
   ]
  },
  {
   "cell_type": "code",
   "execution_count": 17,
   "metadata": {},
   "outputs": [
    {
     "data": {
      "text/plain": [
       "array([1, 1, 1, ..., 0, 1, 1])"
      ]
     },
     "execution_count": 17,
     "metadata": {},
     "output_type": "execute_result"
    }
   ],
   "source": [
    "model = build_model()\n",
    "model.fit(X_train, y_train)\n",
    "model.predict(X_train)"
   ]
  },
  {
   "cell_type": "markdown",
   "metadata": {},
   "source": [
    "## Steps above allows us to set up everything we need to build the model. Now we can focus on tuning, training and testing.\n",
    "\n",
    "* Training a model can take a while\n",
    "* It is useful to be able to save it pre-trained to disk\n",
    "* Once the model is trained, you can efficiently load use it in production"
   ]
  },
  {
   "cell_type": "markdown",
   "metadata": {},
   "source": [
    "## Tuning"
   ]
  },
  {
   "cell_type": "code",
   "execution_count": 19,
   "metadata": {},
   "outputs": [
    {
     "name": "stdout",
     "output_type": "stream",
     "text": [
      "Best Hyperparameters: {'model__max_depth': 7, 'model__min_samples_split': 5}\n",
      "Best score: 64.22%\n"
     ]
    }
   ],
   "source": [
    "tune_model()"
   ]
  },
  {
   "cell_type": "markdown",
   "metadata": {},
   "source": [
    "## Training"
   ]
  },
  {
   "cell_type": "code",
   "execution_count": 20,
   "metadata": {},
   "outputs": [],
   "source": [
    "train_model()"
   ]
  },
  {
   "cell_type": "markdown",
   "metadata": {},
   "source": [
    "**If this properly saved a model, the code below should load it and generate predictions:**"
   ]
  },
  {
   "cell_type": "code",
   "execution_count": 21,
   "metadata": {},
   "outputs": [
    {
     "data": {
      "text/plain": [
       "array([1, 0, 1, ..., 1, 1, 0])"
      ]
     },
     "execution_count": 21,
     "metadata": {},
     "output_type": "execute_result"
    }
   ],
   "source": [
    "model_loaded = joblib.load(MODEL_NAME)\n",
    "model_loaded.predict(X_train)"
   ]
  },
  {
   "cell_type": "markdown",
   "metadata": {},
   "source": [
    "## Testing"
   ]
  },
  {
   "cell_type": "code",
   "execution_count": 22,
   "metadata": {},
   "outputs": [
    {
     "name": "stdout",
     "output_type": "stream",
     "text": [
      "Accuracy on test set: 65.89%\n",
      "              precision    recall  f1-score   support\n",
      "\n",
      "           0       0.71      0.57      0.64       511\n",
      "           1       0.62      0.75      0.68       474\n",
      "\n",
      "    accuracy                           0.66       985\n",
      "   macro avg       0.67      0.66      0.66       985\n",
      "weighted avg       0.67      0.66      0.66       985\n",
      "\n"
     ]
    }
   ],
   "source": [
    "test_model()"
   ]
  },
  {
   "cell_type": "markdown",
   "metadata": {},
   "source": [
    "**All the code properly modular and seperated, so it is easy to make modifications. Modify the existing Transformers by changing the way category is being computed. Just need to focus on the transform method inside the class. If there is need to add extra step just create a new Transformer and then test it individually making sure it works fine, and then in the model.py just need to add it in the build_model() as an extra step. Either create a Pipeline object or add it directly to top level column transformer. If I want to change the algorithm I'm using it's also quite simple.**"
   ]
  },
  {
   "cell_type": "markdown",
   "metadata": {},
   "source": [
    "You can use the `run.py` script to work with your model on the command line:\n",
    "\n",
    "- `python run.py tune`: will tune your model\n",
    "- `python run.py train`: will train it\n",
    "- `python run.py test`: will test it\n",
    "- `python run.py unittest`: will run tests "
   ]
  },
  {
   "cell_type": "markdown",
   "metadata": {},
   "source": [
    "## PyTruth: friendlier assertions"
   ]
  },
  {
   "cell_type": "code",
   "execution_count": 25,
   "metadata": {},
   "outputs": [
    {
     "data": {
      "text/plain": [
       "photo                     {\"small\":\"https://ksr-ugc.imgix.net/assets/011...\n",
       "name                      YOU Release the NEW Goddamn Electric Bill VINY...\n",
       "blurb                     Guarantee yourself one of 250 limited vinyl re...\n",
       "goal                                                                   1500\n",
       "slug                      you-release-the-new-goddamn-electric-bill-viny...\n",
       "disable_communication                                                 False\n",
       "country                                                                  US\n",
       "currency                                                                USD\n",
       "currency_symbol                                                           $\n",
       "currency_trailing_code                                                 True\n",
       "deadline                                                         1284757200\n",
       "created_at                                                       1282000087\n",
       "launched_at                                                      1282175023\n",
       "static_usd_rate                                                           1\n",
       "creator                   {\"urls\":{\"web\":{\"user\":\"https://www.kickstarte...\n",
       "location                  {\"country\":\"US\",\"urls\":{\"web\":{\"discover\":\"htt...\n",
       "category                  {\"urls\":{\"web\":{\"discover\":\"http://www.kicksta...\n",
       "profile                   {\"background_image_opacity\":0.8,\"should_show_f...\n",
       "urls                      {\"web\":{\"project\":\"https://www.kickstarter.com...\n",
       "source_url                https://www.kickstarter.com/discover/categorie...\n",
       "friends                                                                 NaN\n",
       "is_starred                                                              NaN\n",
       "is_backing                                                              NaN\n",
       "permissions                                                             NaN\n",
       "Name: 407153952, dtype: object"
      ]
     },
     "execution_count": 25,
     "metadata": {},
     "output_type": "execute_result"
    }
   ],
   "source": [
    "data = X_train.iloc[1]\n",
    "data"
   ]
  },
  {
   "cell_type": "code",
   "execution_count": 26,
   "metadata": {},
   "outputs": [],
   "source": [
    "AssertThat(data['deadline']).IsNonZero()"
   ]
  },
  {
   "cell_type": "code",
   "execution_count": 27,
   "metadata": {},
   "outputs": [
    {
     "ename": "TruthAssertionError",
     "evalue": "Not true that <1284757200> is zero.",
     "output_type": "error",
     "traceback": [
      "\u001b[0;31m---------------------------------------------------------------------------\u001b[0m",
      "\u001b[0;31mTruthAssertionError\u001b[0m                       Traceback (most recent call last)",
      "\u001b[0;32m<ipython-input-27-cb951efe3d03>\u001b[0m in \u001b[0;36m<module>\u001b[0;34m\u001b[0m\n\u001b[0;32m----> 1\u001b[0;31m \u001b[0mAssertThat\u001b[0m\u001b[0;34m(\u001b[0m\u001b[0mdata\u001b[0m\u001b[0;34m[\u001b[0m\u001b[0;34m'deadline'\u001b[0m\u001b[0;34m]\u001b[0m\u001b[0;34m)\u001b[0m\u001b[0;34m.\u001b[0m\u001b[0mIsZero\u001b[0m\u001b[0;34m(\u001b[0m\u001b[0;34m)\u001b[0m\u001b[0;34m\u001b[0m\u001b[0;34m\u001b[0m\u001b[0m\n\u001b[0m",
      "\u001b[0;32m/usr/local/lib/python3.7/site-packages/truth/truth.py\u001b[0m in \u001b[0;36mIsZero\u001b[0;34m(self)\u001b[0m\n\u001b[1;32m   1309\u001b[0m   \u001b[0;32mdef\u001b[0m \u001b[0mIsZero\u001b[0m\u001b[0;34m(\u001b[0m\u001b[0mself\u001b[0m\u001b[0;34m)\u001b[0m\u001b[0;34m:\u001b[0m\u001b[0;34m\u001b[0m\u001b[0;34m\u001b[0m\u001b[0m\n\u001b[1;32m   1310\u001b[0m     \u001b[0;32mif\u001b[0m \u001b[0mself\u001b[0m\u001b[0;34m.\u001b[0m\u001b[0m_actual\u001b[0m \u001b[0;34m!=\u001b[0m \u001b[0;36m0\u001b[0m\u001b[0;34m:\u001b[0m\u001b[0;34m\u001b[0m\u001b[0;34m\u001b[0m\u001b[0m\n\u001b[0;32m-> 1311\u001b[0;31m       \u001b[0mself\u001b[0m\u001b[0;34m.\u001b[0m\u001b[0m_FailWithProposition\u001b[0m\u001b[0;34m(\u001b[0m\u001b[0;34m'is zero'\u001b[0m\u001b[0;34m)\u001b[0m\u001b[0;34m\u001b[0m\u001b[0;34m\u001b[0m\u001b[0m\n\u001b[0m\u001b[1;32m   1312\u001b[0m \u001b[0;34m\u001b[0m\u001b[0m\n\u001b[1;32m   1313\u001b[0m   \u001b[0;32mdef\u001b[0m \u001b[0mIsNonZero\u001b[0m\u001b[0;34m(\u001b[0m\u001b[0mself\u001b[0m\u001b[0;34m)\u001b[0m\u001b[0;34m:\u001b[0m\u001b[0;34m\u001b[0m\u001b[0;34m\u001b[0m\u001b[0m\n",
      "\u001b[0;32m/usr/local/lib/python3.7/site-packages/truth/truth.py\u001b[0m in \u001b[0;36m_FailWithProposition\u001b[0;34m(self, proposition, suffix)\u001b[0m\n\u001b[1;32m    405\u001b[0m     self._Fail(\n\u001b[1;32m    406\u001b[0m         \u001b[0;34m'Not true that {0} {1}.{2}'\u001b[0m\u001b[0;34m\u001b[0m\u001b[0;34m\u001b[0m\u001b[0m\n\u001b[0;32m--> 407\u001b[0;31m         .format(self._GetSubject(), proposition, suffix))\n\u001b[0m\u001b[1;32m    408\u001b[0m \u001b[0;34m\u001b[0m\u001b[0m\n\u001b[1;32m    409\u001b[0m   \u001b[0;32mdef\u001b[0m \u001b[0m_FailWithSubject\u001b[0m\u001b[0;34m(\u001b[0m\u001b[0mself\u001b[0m\u001b[0;34m,\u001b[0m \u001b[0mverb\u001b[0m\u001b[0;34m)\u001b[0m\u001b[0;34m:\u001b[0m\u001b[0;34m\u001b[0m\u001b[0;34m\u001b[0m\u001b[0m\n",
      "\u001b[0;32m/usr/local/lib/python3.7/site-packages/truth/truth.py\u001b[0m in \u001b[0;36m_Fail\u001b[0;34m(self, msg)\u001b[0m\n\u001b[1;32m    419\u001b[0m       \u001b[0mTruthAssertionError\u001b[0m\u001b[0;34m:\u001b[0m \u001b[0malways\u001b[0m\u001b[0;34m,\u001b[0m \u001b[0mby\u001b[0m \u001b[0mdesign\u001b[0m\u001b[0;34m.\u001b[0m\u001b[0;34m\u001b[0m\u001b[0;34m\u001b[0m\u001b[0m\n\u001b[1;32m    420\u001b[0m     \"\"\"\n\u001b[0;32m--> 421\u001b[0;31m     \u001b[0;32mraise\u001b[0m \u001b[0mTruthAssertionError\u001b[0m\u001b[0;34m(\u001b[0m\u001b[0mmsg\u001b[0m\u001b[0;34m)\u001b[0m\u001b[0;34m\u001b[0m\u001b[0;34m\u001b[0m\u001b[0m\n\u001b[0m\u001b[1;32m    422\u001b[0m \u001b[0;34m\u001b[0m\u001b[0m\n\u001b[1;32m    423\u001b[0m \u001b[0;34m\u001b[0m\u001b[0m\n",
      "\u001b[0;31mTruthAssertionError\u001b[0m: Not true that <1284757200> is zero."
     ]
    }
   ],
   "source": [
    "AssertThat(data['deadline']).IsZero()"
   ]
  },
  {
   "cell_type": "code",
   "execution_count": 29,
   "metadata": {},
   "outputs": [
    {
     "ename": "TruthAssertionError",
     "evalue": "<'Guarantee yourself one of 250 limited vinyl records of the new Goddamn Electric Bill album, \"Jazz\"'> should have contained <'music'>.",
     "output_type": "error",
     "traceback": [
      "\u001b[0;31m---------------------------------------------------------------------------\u001b[0m",
      "\u001b[0;31mTruthAssertionError\u001b[0m                       Traceback (most recent call last)",
      "\u001b[0;32m<ipython-input-29-eced7a825220>\u001b[0m in \u001b[0;36m<module>\u001b[0;34m\u001b[0m\n\u001b[0;32m----> 1\u001b[0;31m \u001b[0mAssertThat\u001b[0m\u001b[0;34m(\u001b[0m\u001b[0mdata\u001b[0m\u001b[0;34m[\u001b[0m\u001b[0;34m'blurb'\u001b[0m\u001b[0;34m]\u001b[0m\u001b[0;34m)\u001b[0m\u001b[0;34m.\u001b[0m\u001b[0mContains\u001b[0m\u001b[0;34m(\u001b[0m\u001b[0;34m'music'\u001b[0m\u001b[0;34m)\u001b[0m\u001b[0;34m\u001b[0m\u001b[0;34m\u001b[0m\u001b[0m\n\u001b[0m",
      "\u001b[0;32m/usr/local/lib/python3.7/site-packages/truth/truth.py\u001b[0m in \u001b[0;36mContains\u001b[0;34m(self, element)\u001b[0m\n\u001b[1;32m    848\u001b[0m   \u001b[0;32mdef\u001b[0m \u001b[0mContains\u001b[0m\u001b[0;34m(\u001b[0m\u001b[0mself\u001b[0m\u001b[0;34m,\u001b[0m \u001b[0melement\u001b[0m\u001b[0;34m)\u001b[0m\u001b[0;34m:\u001b[0m\u001b[0;34m\u001b[0m\u001b[0;34m\u001b[0m\u001b[0m\n\u001b[1;32m    849\u001b[0m     \u001b[0;32mif\u001b[0m \u001b[0melement\u001b[0m \u001b[0;32mnot\u001b[0m \u001b[0;32min\u001b[0m \u001b[0mself\u001b[0m\u001b[0;34m.\u001b[0m\u001b[0m_actual\u001b[0m\u001b[0;34m:\u001b[0m\u001b[0;34m\u001b[0m\u001b[0;34m\u001b[0m\u001b[0m\n\u001b[0;32m--> 850\u001b[0;31m       \u001b[0mself\u001b[0m\u001b[0;34m.\u001b[0m\u001b[0m_FailWithSubject\u001b[0m\u001b[0;34m(\u001b[0m\u001b[0;34m'should have contained <{0!r}>'\u001b[0m\u001b[0;34m.\u001b[0m\u001b[0mformat\u001b[0m\u001b[0;34m(\u001b[0m\u001b[0melement\u001b[0m\u001b[0;34m)\u001b[0m\u001b[0;34m)\u001b[0m\u001b[0;34m\u001b[0m\u001b[0;34m\u001b[0m\u001b[0m\n\u001b[0m\u001b[1;32m    851\u001b[0m \u001b[0;34m\u001b[0m\u001b[0m\n\u001b[1;32m    852\u001b[0m   \u001b[0;32mdef\u001b[0m \u001b[0mDoesNotContain\u001b[0m\u001b[0;34m(\u001b[0m\u001b[0mself\u001b[0m\u001b[0;34m,\u001b[0m \u001b[0melement\u001b[0m\u001b[0;34m)\u001b[0m\u001b[0;34m:\u001b[0m\u001b[0;34m\u001b[0m\u001b[0;34m\u001b[0m\u001b[0m\n",
      "\u001b[0;32m/usr/local/lib/python3.7/site-packages/truth/truth.py\u001b[0m in \u001b[0;36m_FailWithSubject\u001b[0;34m(self, verb)\u001b[0m\n\u001b[1;32m    408\u001b[0m \u001b[0;34m\u001b[0m\u001b[0m\n\u001b[1;32m    409\u001b[0m   \u001b[0;32mdef\u001b[0m \u001b[0m_FailWithSubject\u001b[0m\u001b[0;34m(\u001b[0m\u001b[0mself\u001b[0m\u001b[0;34m,\u001b[0m \u001b[0mverb\u001b[0m\u001b[0;34m)\u001b[0m\u001b[0;34m:\u001b[0m\u001b[0;34m\u001b[0m\u001b[0;34m\u001b[0m\u001b[0m\n\u001b[0;32m--> 410\u001b[0;31m     \u001b[0mself\u001b[0m\u001b[0;34m.\u001b[0m\u001b[0m_Fail\u001b[0m\u001b[0;34m(\u001b[0m\u001b[0;34m'{0} {1}.'\u001b[0m\u001b[0;34m.\u001b[0m\u001b[0mformat\u001b[0m\u001b[0;34m(\u001b[0m\u001b[0mself\u001b[0m\u001b[0;34m.\u001b[0m\u001b[0m_GetSubject\u001b[0m\u001b[0;34m(\u001b[0m\u001b[0;34m)\u001b[0m\u001b[0;34m,\u001b[0m \u001b[0mverb\u001b[0m\u001b[0;34m)\u001b[0m\u001b[0;34m)\u001b[0m\u001b[0;34m\u001b[0m\u001b[0;34m\u001b[0m\u001b[0m\n\u001b[0m\u001b[1;32m    411\u001b[0m \u001b[0;34m\u001b[0m\u001b[0m\n\u001b[1;32m    412\u001b[0m   \u001b[0;32mdef\u001b[0m \u001b[0m_Fail\u001b[0m\u001b[0;34m(\u001b[0m\u001b[0mself\u001b[0m\u001b[0;34m,\u001b[0m \u001b[0mmsg\u001b[0m\u001b[0;34m)\u001b[0m\u001b[0;34m:\u001b[0m\u001b[0;34m\u001b[0m\u001b[0;34m\u001b[0m\u001b[0m\n",
      "\u001b[0;32m/usr/local/lib/python3.7/site-packages/truth/truth.py\u001b[0m in \u001b[0;36m_Fail\u001b[0;34m(self, msg)\u001b[0m\n\u001b[1;32m    419\u001b[0m       \u001b[0mTruthAssertionError\u001b[0m\u001b[0;34m:\u001b[0m \u001b[0malways\u001b[0m\u001b[0;34m,\u001b[0m \u001b[0mby\u001b[0m \u001b[0mdesign\u001b[0m\u001b[0;34m.\u001b[0m\u001b[0;34m\u001b[0m\u001b[0;34m\u001b[0m\u001b[0m\n\u001b[1;32m    420\u001b[0m     \"\"\"\n\u001b[0;32m--> 421\u001b[0;31m     \u001b[0;32mraise\u001b[0m \u001b[0mTruthAssertionError\u001b[0m\u001b[0;34m(\u001b[0m\u001b[0mmsg\u001b[0m\u001b[0;34m)\u001b[0m\u001b[0;34m\u001b[0m\u001b[0;34m\u001b[0m\u001b[0m\n\u001b[0m\u001b[1;32m    422\u001b[0m \u001b[0;34m\u001b[0m\u001b[0m\n\u001b[1;32m    423\u001b[0m \u001b[0;34m\u001b[0m\u001b[0m\n",
      "\u001b[0;31mTruthAssertionError\u001b[0m: <'Guarantee yourself one of 250 limited vinyl records of the new Goddamn Electric Bill album, \"Jazz\"'> should have contained <'music'>."
     ]
    }
   ],
   "source": [
    "AssertThat(data['blurb']).Contains('music')"
   ]
  },
  {
   "cell_type": "code",
   "execution_count": 30,
   "metadata": {},
   "outputs": [],
   "source": [
    "AssertThat(data['blurb']).Contains('album')"
   ]
  },
  {
   "cell_type": "markdown",
   "metadata": {},
   "source": [
    "## Hypothesis"
   ]
  },
  {
   "cell_type": "code",
   "execution_count": 33,
   "metadata": {},
   "outputs": [
    {
     "name": "stdout",
     "output_type": "stream",
     "text": [
      "['\\x1b\\U000ecabe\\x16\\x1b(\\U00044789\\U000f6b45', '\\U000985b0𫑲\\U00077df3', '槪\\x16\\U000edb21', '', '\\U00061a95𭣎\\x14\\U0005ec65\\U000c0e3f', \"\\t.\\U000b01e9\\U00050b70𑠰'(\\U0003d043⚜\\U000f72ee\\x0e\\U00041aac\\U000dfe63𥅴\\U0003a145\\x1e\\x16\\x16\\U00065e42!\\x1f\", '\\x1f', '', '+', '', '', '\\x0b\\U00085681\\n\\U000aaf5e&', '', '\\x0e\\x08\\U000de946', '\\U000523b1𣣠\\U00048aaf', '', '\\U0002ef16', '\\x1f/\\x18,\\U000397c3\\x0c\\x11', 'ᦏ(\\x1c\\U0003f05f\\U000fa3fb\\x10\\U00054931\\x0b', '\\x18\\U00101084\\U000d569c\\U000c4058\\x07\\x03\\x12']\n",
      "[\"\\U00092f8f\\x04\\U0003c48f자\\x00*\\U000a6925\\U000d5eb9#\\U000c465e'\\U0004c3df\\U00067e01\\U00061703\\x0c\\x03\\U00049511\\U000d3b76\\x17\", '\\U000b4f0c\\r']\n",
      "['沗\\x13\\U00049049', '&\\U00083eb3\\x1d', '\\x00\\x19\\U00108715\\U0006c7c5\\x1b\"\\U000b959c\\x01\\U000ced29\\x00\\x1c\\U000b39f8\\U000f0d7d\\t', '\\U00057cdb/\\U000e7fc8\\U000732f5\\U00082a31\\x170+\\U0005a472\\U000d587d', '\\x0b!\\U000c2b27)\\x01𩀞\\U000917dc\\U00104e72', '\\U00086f3e\\U0009fd12\\U0009f42f\\U00067445\\x01\\U0007419c\\U00016c03\\x07\\U0010a0db\\U000e05a0\\U0010c5f5\\x00\\x0b\\x0e\\x0b\\U00045557', '\\U000b85b7\\U000fbea4']\n",
      "['\\U000af8ac']\n",
      "['.\\x1e䚽\\x1e\\U000c595c\\U000f7e9e', 'ⴒ\\U000ecd96\\U000b2dec\\U00106e45\\uf6d4\\U000661e8', '\\x06\\U00101516\\U0003f80d\\U0002fb34\\x05\\x1f\\U00083262\\U000cb79c', '', '\\U000cc0e0\\x03\\U000f5257\\x0f𬠵\\x1d\\x04', '', '\\U0006adbc\\U000d2347\\U00067f71', '\\x14\\U0009d6d4\\x0f\\U0007f4e9)\\U00035cf7 \\x05\\x16', '$/\\x0e㐅\\x03\\x1c\\U000c7aaa', '\\x16\\U000d3c1c\\U0006a936&', \"'\\U0006f7c2\", '\\x0b\\U0004d1b5', '\\U000b9841\\U00073d66𥹌', '$\\U00103831', '𩛻\\U000fb8fa\\n\\x10\\x07\\U00091129', '\\U001025e4\\U000c63cd\\U000c7cc8\\U00088bac\\x06\\x1b\\U0008beb7']\n",
      "['', '\\x1e\\x18\\x15\\U000ca3ec\\U0008bc4e']\n",
      "['\\U00076697', '-\\U0007a7fc(\\U000e4a29%\\x03$$\\U00030123\\x1cⅠ\\U000bb730\\U00095e51']\n",
      "['\\U0006f4ff⨅\\U000d3b2d\\U00033bbe\\U00101099%\\U0001602e', \"\\U00030e94\\x0b\\U0007abbe\\x14\\U0009afdc\\U0006a456\\x02\\U0009486d\\U0005dd9a&'𦬴\\U00104d01\\U00095813\"]\n",
      "['\\x18\\x02\\U000eaa48\\U0007b9a2', '']\n",
      "['\\x0c\\x0e\\U000a4bb9)\\U000f5d7b\\U000ebd94\\U0009ca3f\\x1d\\U00071da7', '\\x1a\\x00\\U0009043d\\U000b676d.\\U000a6f6a', '']\n"
     ]
    }
   ],
   "source": [
    "for i in range(0, 10):\n",
    "    # I want a list of text, please generate bunch of examples.\n",
    "    print(lists(text()).example())"
   ]
  },
  {
   "cell_type": "code",
   "execution_count": 35,
   "metadata": {},
   "outputs": [
    {
     "data": {
      "text/html": [
       "<div>\n",
       "<style scoped>\n",
       "    .dataframe tbody tr th:only-of-type {\n",
       "        vertical-align: middle;\n",
       "    }\n",
       "\n",
       "    .dataframe tbody tr th {\n",
       "        vertical-align: top;\n",
       "    }\n",
       "\n",
       "    .dataframe thead th {\n",
       "        text-align: right;\n",
       "    }\n",
       "</style>\n",
       "<table border=\"1\" class=\"dataframe\">\n",
       "  <thead>\n",
       "    <tr style=\"text-align: right;\">\n",
       "      <th></th>\n",
       "      <th>goal</th>\n",
       "      <th>static_usd_rate</th>\n",
       "    </tr>\n",
       "  </thead>\n",
       "  <tbody>\n",
       "    <tr>\n",
       "      <th>0</th>\n",
       "      <td>2.220446e-16</td>\n",
       "      <td>-5.000000e-01</td>\n",
       "    </tr>\n",
       "    <tr>\n",
       "      <th>1</th>\n",
       "      <td>2.220446e-16</td>\n",
       "      <td>-1.000000e+07</td>\n",
       "    </tr>\n",
       "    <tr>\n",
       "      <th>2</th>\n",
       "      <td>2.220446e-16</td>\n",
       "      <td>-5.000000e-01</td>\n",
       "    </tr>\n",
       "    <tr>\n",
       "      <th>3</th>\n",
       "      <td>2.220446e-16</td>\n",
       "      <td>-2.000010e+00</td>\n",
       "    </tr>\n",
       "    <tr>\n",
       "      <th>4</th>\n",
       "      <td>2.220446e-16</td>\n",
       "      <td>-5.000000e-01</td>\n",
       "    </tr>\n",
       "    <tr>\n",
       "      <th>5</th>\n",
       "      <td>2.220446e-16</td>\n",
       "      <td>0.000000e+00</td>\n",
       "    </tr>\n",
       "    <tr>\n",
       "      <th>6</th>\n",
       "      <td>2.220446e-16</td>\n",
       "      <td>-5.000000e-01</td>\n",
       "    </tr>\n",
       "    <tr>\n",
       "      <th>7</th>\n",
       "      <td>2.220446e-16</td>\n",
       "      <td>1.000000e+07</td>\n",
       "    </tr>\n",
       "  </tbody>\n",
       "</table>\n",
       "</div>"
      ],
      "text/plain": [
       "           goal  static_usd_rate\n",
       "0  2.220446e-16    -5.000000e-01\n",
       "1  2.220446e-16    -1.000000e+07\n",
       "2  2.220446e-16    -5.000000e-01\n",
       "3  2.220446e-16    -2.000010e+00\n",
       "4  2.220446e-16    -5.000000e-01\n",
       "5  2.220446e-16     0.000000e+00\n",
       "6  2.220446e-16    -5.000000e-01\n",
       "7  2.220446e-16     1.000000e+07"
      ]
     },
     "execution_count": 35,
     "metadata": {},
     "output_type": "execute_result"
    }
   ],
   "source": [
    "data_frames([column('goal', dtype=float), column('static_usd_rate', dtype=float)]).example()"
   ]
  },
  {
   "cell_type": "code",
   "execution_count": 39,
   "metadata": {},
   "outputs": [
    {
     "name": "stdout",
     "output_type": "stream",
     "text": [
      "{'slug': '\\U00100ea8\\t\\U000dc611\\x00'}\n",
      "{'slug': '\\U000d0b03#\\x06'}\n",
      "{'slug': '\\U000ad2dd'}\n",
      "{'slug': '%'}\n",
      "{'slug': '\\U000eb31d\\x16\\rꖕ'}\n",
      "{'slug': '읎\\U000aa5ee䄹\\x18'}\n",
      "{'slug': '%\\U0010ac46\\U0009cfe4\\x1c\\x06,\\U00088fa6\\U000c7c6d\\x11\\r\\U0003bc54\\U000b9679'}\n",
      "{'slug': ''}\n",
      "{'slug': ''}\n",
      "{'slug': '꒣䌺\\x19'}\n"
     ]
    }
   ],
   "source": [
    "for i in range(0, 10):\n",
    "    # generates random nested dictionaires\n",
    "    print(fixed_dictionaries({'slug': text()}).example())"
   ]
  },
  {
   "cell_type": "code",
   "execution_count": 41,
   "metadata": {},
   "outputs": [
    {
     "data": {
      "text/plain": [
       "'bca'"
      ]
     },
     "execution_count": 41,
     "metadata": {},
     "output_type": "execute_result"
    }
   ],
   "source": [
    "from_regex(\"^[abc]{3}$\").example()"
   ]
  },
  {
   "cell_type": "code",
   "execution_count": 45,
   "metadata": {},
   "outputs": [
    {
     "data": {
      "text/plain": [
       "'{\"data\": \"ccc\\\\n\"}'"
      ]
     },
     "execution_count": 45,
     "metadata": {},
     "output_type": "execute_result"
    }
   ],
   "source": [
    "fixed_dictionaries({'data': from_regex(\"^[abc]{3}$\")}).map(json.dumps).example()"
   ]
  },
  {
   "cell_type": "code",
   "execution_count": null,
   "metadata": {},
   "outputs": [],
   "source": []
  },
  {
   "cell_type": "code",
   "execution_count": null,
   "metadata": {},
   "outputs": [],
   "source": []
  },
  {
   "cell_type": "code",
   "execution_count": null,
   "metadata": {},
   "outputs": [],
   "source": []
  },
  {
   "cell_type": "code",
   "execution_count": null,
   "metadata": {},
   "outputs": [],
   "source": []
  },
  {
   "cell_type": "code",
   "execution_count": null,
   "metadata": {},
   "outputs": [],
   "source": []
  },
  {
   "cell_type": "code",
   "execution_count": null,
   "metadata": {},
   "outputs": [],
   "source": []
  },
  {
   "cell_type": "code",
   "execution_count": null,
   "metadata": {},
   "outputs": [],
   "source": []
  },
  {
   "cell_type": "code",
   "execution_count": null,
   "metadata": {},
   "outputs": [],
   "source": []
  },
  {
   "cell_type": "code",
   "execution_count": null,
   "metadata": {},
   "outputs": [],
   "source": []
  },
  {
   "cell_type": "code",
   "execution_count": null,
   "metadata": {},
   "outputs": [],
   "source": []
  },
  {
   "cell_type": "code",
   "execution_count": null,
   "metadata": {},
   "outputs": [],
   "source": []
  },
  {
   "cell_type": "code",
   "execution_count": null,
   "metadata": {},
   "outputs": [],
   "source": []
  },
  {
   "cell_type": "code",
   "execution_count": null,
   "metadata": {},
   "outputs": [],
   "source": []
  }
 ],
 "metadata": {
  "kernelspec": {
   "display_name": "venv",
   "language": "python",
   "name": "venv"
  },
  "language_info": {
   "codemirror_mode": {
    "name": "ipython",
    "version": 3
   },
   "file_extension": ".py",
   "mimetype": "text/x-python",
   "name": "python",
   "nbconvert_exporter": "python",
   "pygments_lexer": "ipython3",
   "version": "3.7.3"
  }
 },
 "nbformat": 4,
 "nbformat_minor": 2
}
